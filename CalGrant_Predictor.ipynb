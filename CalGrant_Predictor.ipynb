{
  "cells": [
    {
      "cell_type": "markdown",
      "source": [
        "#Cal Grant Predictor\n",
        "#Authors: Vladimir Kataev, Darshan Patel, Harjas Dhaliwal\n",
        "#CS105- Winter 2023\n",
        "\n",
        "\n",
        "\n",
        "---\n",
        "\n",
        "\n",
        "\n",
        "\n",
        "\n",
        "\n",
        "\n",
        "\n",
        "\n",
        "\n"
      ],
      "metadata": {
        "id": "14RkJ2LUuq-0"
      }
    },
    {
      "cell_type": "markdown",
      "source": [
        "#Introduction \n",
        "  As college students, we recognize the importance and urgency of financial aid programs that have a direct impact on individuals and families who are facing difficulties in paying for the increasing expenses of education. Many students belong to low to middle-income backgrounds which present significant economic challenges when pursuing higher education. For many students, financial aid programs are the difference between attending college and being forced to forego higher education due to financial constraints.\n",
        "\n",
        "\n",
        "\n",
        "---\n",
        "\n",
        "\n",
        " Our dataset came from the California Student Aid Commission (CSAC), It is comprised of several different datasets including FAFSA and Cal Grant applications, as well as data on financial aid awards and student demographics such as expected family contribution (EFC), income level, and educational background. The dataset has many different attributes, like the ones listed above however a large portion of them were hidden observations, such as GPA, Parental Income, and Age. This dataset includes numbers from several years ago (since the start of the Cal Grant Program in 2000) before we began to clean the data. Thus, making it easier to build a predictive model because we have enough data to follow trends and build predictions. Making it a valuable resource for analyzing trends and patterns in financial aid distribution. We chose to focus on the past two years of the dataset to maintain relevance and accuracy in our analysis.\n",
        "\n"
      ],
      "metadata": {
        "id": "ica3zkHruMqR"
      }
    },
    {
      "cell_type": "markdown",
      "source": [
        "# https://www.csac.ca.gov/data-dashboards\n",
        "# Offered grants / Total applications \n",
        "\n",
        "\n",
        "\n",
        "\n",
        "---\n",
        "\n",
        "\n"
      ],
      "metadata": {
        "id": "pikqOZMqAcDs"
      }
    },
    {
      "cell_type": "markdown",
      "source": [
        "# Install all the frameworks\n"
      ],
      "metadata": {
        "id": "POB4f-2gAVWt"
      }
    },
    {
      "cell_type": "markdown",
      "source": [
        "Here we Installed all of the necessary framework and toolkits to effectively implement and utilize predictive analytics techniques in our time series forecasting model. We then gathered and preprocessed the relevant data, including historical financial aid application numbers and demographic and economic data."
      ],
      "metadata": {
        "id": "ccs3oY8lpib3"
      }
    },
    {
      "cell_type": "code",
      "execution_count": 1,
      "metadata": {
        "id": "JQi_94NAp_1L",
        "colab": {
          "base_uri": "https://localhost:8080/"
        },
        "outputId": "f1b12d2c-c4f4-4441-f6bd-86f57a6481db"
      },
      "outputs": [
        {
          "output_type": "stream",
          "name": "stdout",
          "text": [
            "Looking in indexes: https://pypi.org/simple, https://us-python.pkg.dev/colab-wheels/public/simple/\n",
            "Collecting skforecast\n",
            "  Downloading skforecast-0.7.0-py2.py3-none-any.whl (343 kB)\n",
            "\u001b[2K     \u001b[90m━━━━━━━━━━━━━━━━━━━━━━━━━━━━━━━━━━━━━━━\u001b[0m \u001b[32m343.8/343.8 KB\u001b[0m \u001b[31m6.4 MB/s\u001b[0m eta \u001b[36m0:00:00\u001b[0m\n",
            "\u001b[?25hCollecting optuna<3.2,>=2.10.0\n",
            "  Downloading optuna-3.1.0-py3-none-any.whl (365 kB)\n",
            "\u001b[2K     \u001b[90m━━━━━━━━━━━━━━━━━━━━━━━━━━━━━━━━━━━━━━\u001b[0m \u001b[32m365.3/365.3 KB\u001b[0m \u001b[31m14.2 MB/s\u001b[0m eta \u001b[36m0:00:00\u001b[0m\n",
            "\u001b[?25hRequirement already satisfied: scikit-learn<1.3,>=1.0 in /usr/local/lib/python3.9/dist-packages (from skforecast) (1.2.2)\n",
            "Requirement already satisfied: joblib<1.3.0,>=1.1.0 in /usr/local/lib/python3.9/dist-packages (from skforecast) (1.1.1)\n",
            "Requirement already satisfied: numpy<1.25,>=1.20 in /usr/local/lib/python3.9/dist-packages (from skforecast) (1.22.4)\n",
            "Collecting tqdm<4.65,>=4.57.0\n",
            "  Downloading tqdm-4.64.1-py2.py3-none-any.whl (78 kB)\n",
            "\u001b[2K     \u001b[90m━━━━━━━━━━━━━━━━━━━━━━━━━━━━━━━━━━━━━━━━\u001b[0m \u001b[32m78.5/78.5 KB\u001b[0m \u001b[31m4.8 MB/s\u001b[0m eta \u001b[36m0:00:00\u001b[0m\n",
            "\u001b[?25hRequirement already satisfied: pandas<1.6,>=1.2 in /usr/local/lib/python3.9/dist-packages (from skforecast) (1.4.4)\n",
            "Collecting colorlog\n",
            "  Downloading colorlog-6.7.0-py2.py3-none-any.whl (11 kB)\n",
            "Collecting alembic>=1.5.0\n",
            "  Downloading alembic-1.10.2-py3-none-any.whl (212 kB)\n",
            "\u001b[2K     \u001b[90m━━━━━━━━━━━━━━━━━━━━━━━━━━━━━━━━━━━━━━\u001b[0m \u001b[32m212.2/212.2 KB\u001b[0m \u001b[31m12.7 MB/s\u001b[0m eta \u001b[36m0:00:00\u001b[0m\n",
            "\u001b[?25hRequirement already satisfied: PyYAML in /usr/local/lib/python3.9/dist-packages (from optuna<3.2,>=2.10.0->skforecast) (6.0)\n",
            "Requirement already satisfied: sqlalchemy>=1.3.0 in /usr/local/lib/python3.9/dist-packages (from optuna<3.2,>=2.10.0->skforecast) (1.4.47)\n",
            "Requirement already satisfied: packaging>=20.0 in /usr/local/lib/python3.9/dist-packages (from optuna<3.2,>=2.10.0->skforecast) (23.0)\n",
            "Collecting cmaes>=0.9.1\n",
            "  Downloading cmaes-0.9.1-py3-none-any.whl (21 kB)\n",
            "Requirement already satisfied: pytz>=2020.1 in /usr/local/lib/python3.9/dist-packages (from pandas<1.6,>=1.2->skforecast) (2022.7.1)\n",
            "Requirement already satisfied: python-dateutil>=2.8.1 in /usr/local/lib/python3.9/dist-packages (from pandas<1.6,>=1.2->skforecast) (2.8.2)\n",
            "Requirement already satisfied: threadpoolctl>=2.0.0 in /usr/local/lib/python3.9/dist-packages (from scikit-learn<1.3,>=1.0->skforecast) (3.1.0)\n",
            "Requirement already satisfied: scipy>=1.3.2 in /usr/local/lib/python3.9/dist-packages (from scikit-learn<1.3,>=1.0->skforecast) (1.10.1)\n",
            "Collecting Mako\n",
            "  Downloading Mako-1.2.4-py3-none-any.whl (78 kB)\n",
            "\u001b[2K     \u001b[90m━━━━━━━━━━━━━━━━━━━━━━━━━━━━━━━━━━━━━━━━\u001b[0m \u001b[32m78.7/78.7 KB\u001b[0m \u001b[31m3.6 MB/s\u001b[0m eta \u001b[36m0:00:00\u001b[0m\n",
            "\u001b[?25hRequirement already satisfied: typing-extensions>=4 in /usr/local/lib/python3.9/dist-packages (from alembic>=1.5.0->optuna<3.2,>=2.10.0->skforecast) (4.5.0)\n",
            "Requirement already satisfied: six>=1.5 in /usr/local/lib/python3.9/dist-packages (from python-dateutil>=2.8.1->pandas<1.6,>=1.2->skforecast) (1.16.0)\n",
            "Requirement already satisfied: greenlet!=0.4.17 in /usr/local/lib/python3.9/dist-packages (from sqlalchemy>=1.3.0->optuna<3.2,>=2.10.0->skforecast) (2.0.2)\n",
            "Requirement already satisfied: MarkupSafe>=0.9.2 in /usr/local/lib/python3.9/dist-packages (from Mako->alembic>=1.5.0->optuna<3.2,>=2.10.0->skforecast) (2.1.2)\n",
            "Installing collected packages: tqdm, Mako, colorlog, cmaes, alembic, optuna, skforecast\n",
            "  Attempting uninstall: tqdm\n",
            "    Found existing installation: tqdm 4.65.0\n",
            "    Uninstalling tqdm-4.65.0:\n",
            "      Successfully uninstalled tqdm-4.65.0\n",
            "Successfully installed Mako-1.2.4 alembic-1.10.2 cmaes-0.9.1 colorlog-6.7.0 optuna-3.1.0 skforecast-0.7.0 tqdm-4.64.1\n",
            "Looking in indexes: https://pypi.org/simple, https://us-python.pkg.dev/colab-wheels/public/simple/\n",
            "Requirement already satisfied: statsmodels in /usr/local/lib/python3.9/dist-packages (0.13.5)\n",
            "Requirement already satisfied: pandas>=0.25 in /usr/local/lib/python3.9/dist-packages (from statsmodels) (1.4.4)\n",
            "Requirement already satisfied: packaging>=21.3 in /usr/local/lib/python3.9/dist-packages (from statsmodels) (23.0)\n",
            "Requirement already satisfied: scipy>=1.3 in /usr/local/lib/python3.9/dist-packages (from statsmodels) (1.10.1)\n",
            "Requirement already satisfied: numpy>=1.17 in /usr/local/lib/python3.9/dist-packages (from statsmodels) (1.22.4)\n",
            "Requirement already satisfied: patsy>=0.5.2 in /usr/local/lib/python3.9/dist-packages (from statsmodels) (0.5.3)\n",
            "Requirement already satisfied: python-dateutil>=2.8.1 in /usr/local/lib/python3.9/dist-packages (from pandas>=0.25->statsmodels) (2.8.2)\n",
            "Requirement already satisfied: pytz>=2020.1 in /usr/local/lib/python3.9/dist-packages (from pandas>=0.25->statsmodels) (2022.7.1)\n",
            "Requirement already satisfied: six in /usr/local/lib/python3.9/dist-packages (from patsy>=0.5.2->statsmodels) (1.16.0)\n"
          ]
        }
      ],
      "source": [
        "!pip install skforecast\n",
        "!pip install statsmodels\n",
        "from google.colab import files\n",
        "import pandas as pd\n",
        "import matplotlib.pyplot as plt\n",
        "%matplotlib inline\n",
        "\n",
        "# Modeling and Forecasting\n",
        "# ==============================================================================\n",
        "from sklearn.linear_model import LinearRegression\n",
        "from sklearn.linear_model import Lasso\n",
        "from sklearn.ensemble import RandomForestRegressor\n",
        "from sklearn.metrics import mean_squared_error\n",
        "from sklearn.preprocessing import StandardScaler\n",
        "from sklearn.pipeline import make_pipeline\n",
        "from sklearn.tree import DecisionTreeRegressor\n",
        "\n",
        "from skforecast.ForecasterAutoreg import ForecasterAutoreg\n",
        "from skforecast.ForecasterAutoregCustom import ForecasterAutoregCustom\n",
        "from skforecast.ForecasterAutoregDirect import ForecasterAutoregDirect\n",
        "from skforecast.model_selection import grid_search_forecaster\n",
        "from skforecast.model_selection import backtesting_forecaster\n",
        "from skforecast.utils import save_forecaster\n",
        "from skforecast.utils import load_forecaster\n",
        "\n",
        "\n",
        "from statsmodels.tsa.arima.model import ARIMA\n"
      ]
    },
    {
      "cell_type": "markdown",
      "source": [
        "# The marginal probabilities file"
      ],
      "metadata": {
        "id": "osag6JNAAnGZ"
      }
    },
    {
      "cell_type": "markdown",
      "source": [
        "After consolidating our datafile and creating sums 3D coordinates for the number of Cal grant A,B,C. We performed a series of data analyses to identify patterns and trends in the demand for financial aid programs."
      ],
      "metadata": {
        "id": "HJfLyJjNqDg0"
      }
    },
    {
      "cell_type": "code",
      "execution_count": 2,
      "metadata": {
        "id": "iUJ8r1EiqBGN",
        "colab": {
          "base_uri": "https://localhost:8080/",
          "height": 92
        },
        "outputId": "0256e032-64c5-4845-89ab-d5b0c5df13ff"
      },
      "outputs": [
        {
          "output_type": "stream",
          "name": "stdout",
          "text": [
            "The marginal file\n"
          ]
        },
        {
          "output_type": "display_data",
          "data": {
            "text/plain": [
              "<IPython.core.display.HTML object>"
            ],
            "text/html": [
              "\n",
              "     <input type=\"file\" id=\"files-33552422-0c0b-4408-9c64-f79366ebd855\" name=\"files[]\" multiple disabled\n",
              "        style=\"border:none\" />\n",
              "     <output id=\"result-33552422-0c0b-4408-9c64-f79366ebd855\">\n",
              "      Upload widget is only available when the cell has been executed in the\n",
              "      current browser session. Please rerun this cell to enable.\n",
              "      </output>\n",
              "      <script>// Copyright 2017 Google LLC\n",
              "//\n",
              "// Licensed under the Apache License, Version 2.0 (the \"License\");\n",
              "// you may not use this file except in compliance with the License.\n",
              "// You may obtain a copy of the License at\n",
              "//\n",
              "//      http://www.apache.org/licenses/LICENSE-2.0\n",
              "//\n",
              "// Unless required by applicable law or agreed to in writing, software\n",
              "// distributed under the License is distributed on an \"AS IS\" BASIS,\n",
              "// WITHOUT WARRANTIES OR CONDITIONS OF ANY KIND, either express or implied.\n",
              "// See the License for the specific language governing permissions and\n",
              "// limitations under the License.\n",
              "\n",
              "/**\n",
              " * @fileoverview Helpers for google.colab Python module.\n",
              " */\n",
              "(function(scope) {\n",
              "function span(text, styleAttributes = {}) {\n",
              "  const element = document.createElement('span');\n",
              "  element.textContent = text;\n",
              "  for (const key of Object.keys(styleAttributes)) {\n",
              "    element.style[key] = styleAttributes[key];\n",
              "  }\n",
              "  return element;\n",
              "}\n",
              "\n",
              "// Max number of bytes which will be uploaded at a time.\n",
              "const MAX_PAYLOAD_SIZE = 100 * 1024;\n",
              "\n",
              "function _uploadFiles(inputId, outputId) {\n",
              "  const steps = uploadFilesStep(inputId, outputId);\n",
              "  const outputElement = document.getElementById(outputId);\n",
              "  // Cache steps on the outputElement to make it available for the next call\n",
              "  // to uploadFilesContinue from Python.\n",
              "  outputElement.steps = steps;\n",
              "\n",
              "  return _uploadFilesContinue(outputId);\n",
              "}\n",
              "\n",
              "// This is roughly an async generator (not supported in the browser yet),\n",
              "// where there are multiple asynchronous steps and the Python side is going\n",
              "// to poll for completion of each step.\n",
              "// This uses a Promise to block the python side on completion of each step,\n",
              "// then passes the result of the previous step as the input to the next step.\n",
              "function _uploadFilesContinue(outputId) {\n",
              "  const outputElement = document.getElementById(outputId);\n",
              "  const steps = outputElement.steps;\n",
              "\n",
              "  const next = steps.next(outputElement.lastPromiseValue);\n",
              "  return Promise.resolve(next.value.promise).then((value) => {\n",
              "    // Cache the last promise value to make it available to the next\n",
              "    // step of the generator.\n",
              "    outputElement.lastPromiseValue = value;\n",
              "    return next.value.response;\n",
              "  });\n",
              "}\n",
              "\n",
              "/**\n",
              " * Generator function which is called between each async step of the upload\n",
              " * process.\n",
              " * @param {string} inputId Element ID of the input file picker element.\n",
              " * @param {string} outputId Element ID of the output display.\n",
              " * @return {!Iterable<!Object>} Iterable of next steps.\n",
              " */\n",
              "function* uploadFilesStep(inputId, outputId) {\n",
              "  const inputElement = document.getElementById(inputId);\n",
              "  inputElement.disabled = false;\n",
              "\n",
              "  const outputElement = document.getElementById(outputId);\n",
              "  outputElement.innerHTML = '';\n",
              "\n",
              "  const pickedPromise = new Promise((resolve) => {\n",
              "    inputElement.addEventListener('change', (e) => {\n",
              "      resolve(e.target.files);\n",
              "    });\n",
              "  });\n",
              "\n",
              "  const cancel = document.createElement('button');\n",
              "  inputElement.parentElement.appendChild(cancel);\n",
              "  cancel.textContent = 'Cancel upload';\n",
              "  const cancelPromise = new Promise((resolve) => {\n",
              "    cancel.onclick = () => {\n",
              "      resolve(null);\n",
              "    };\n",
              "  });\n",
              "\n",
              "  // Wait for the user to pick the files.\n",
              "  const files = yield {\n",
              "    promise: Promise.race([pickedPromise, cancelPromise]),\n",
              "    response: {\n",
              "      action: 'starting',\n",
              "    }\n",
              "  };\n",
              "\n",
              "  cancel.remove();\n",
              "\n",
              "  // Disable the input element since further picks are not allowed.\n",
              "  inputElement.disabled = true;\n",
              "\n",
              "  if (!files) {\n",
              "    return {\n",
              "      response: {\n",
              "        action: 'complete',\n",
              "      }\n",
              "    };\n",
              "  }\n",
              "\n",
              "  for (const file of files) {\n",
              "    const li = document.createElement('li');\n",
              "    li.append(span(file.name, {fontWeight: 'bold'}));\n",
              "    li.append(span(\n",
              "        `(${file.type || 'n/a'}) - ${file.size} bytes, ` +\n",
              "        `last modified: ${\n",
              "            file.lastModifiedDate ? file.lastModifiedDate.toLocaleDateString() :\n",
              "                                    'n/a'} - `));\n",
              "    const percent = span('0% done');\n",
              "    li.appendChild(percent);\n",
              "\n",
              "    outputElement.appendChild(li);\n",
              "\n",
              "    const fileDataPromise = new Promise((resolve) => {\n",
              "      const reader = new FileReader();\n",
              "      reader.onload = (e) => {\n",
              "        resolve(e.target.result);\n",
              "      };\n",
              "      reader.readAsArrayBuffer(file);\n",
              "    });\n",
              "    // Wait for the data to be ready.\n",
              "    let fileData = yield {\n",
              "      promise: fileDataPromise,\n",
              "      response: {\n",
              "        action: 'continue',\n",
              "      }\n",
              "    };\n",
              "\n",
              "    // Use a chunked sending to avoid message size limits. See b/62115660.\n",
              "    let position = 0;\n",
              "    do {\n",
              "      const length = Math.min(fileData.byteLength - position, MAX_PAYLOAD_SIZE);\n",
              "      const chunk = new Uint8Array(fileData, position, length);\n",
              "      position += length;\n",
              "\n",
              "      const base64 = btoa(String.fromCharCode.apply(null, chunk));\n",
              "      yield {\n",
              "        response: {\n",
              "          action: 'append',\n",
              "          file: file.name,\n",
              "          data: base64,\n",
              "        },\n",
              "      };\n",
              "\n",
              "      let percentDone = fileData.byteLength === 0 ?\n",
              "          100 :\n",
              "          Math.round((position / fileData.byteLength) * 100);\n",
              "      percent.textContent = `${percentDone}% done`;\n",
              "\n",
              "    } while (position < fileData.byteLength);\n",
              "  }\n",
              "\n",
              "  // All done.\n",
              "  yield {\n",
              "    response: {\n",
              "      action: 'complete',\n",
              "    }\n",
              "  };\n",
              "}\n",
              "\n",
              "scope.google = scope.google || {};\n",
              "scope.google.colab = scope.google.colab || {};\n",
              "scope.google.colab._files = {\n",
              "  _uploadFiles,\n",
              "  _uploadFilesContinue,\n",
              "};\n",
              "})(self);\n",
              "</script> "
            ]
          },
          "metadata": {}
        },
        {
          "output_type": "stream",
          "name": "stdout",
          "text": [
            "Saving marginals.csv to marginals.csv\n"
          ]
        }
      ],
      "source": [
        "print(\"The marginal file\")\n",
        "files.upload()\n",
        "df = pd.read_csv('/content/marginals.csv')\n",
        "# place = {CCC, CSU, UC}, parentalEducation = {\"college\" (or more), \"highSchool\" (or less), }"
      ]
    },
    {
      "cell_type": "code",
      "execution_count": 3,
      "metadata": {
        "id": "2_O99I3hqKeg",
        "colab": {
          "base_uri": "https://localhost:8080/",
          "height": 206
        },
        "outputId": "af56b3c9-017c-4df0-83fa-651ad2b5fe0f"
      },
      "outputs": [
        {
          "output_type": "execute_result",
          "data": {
            "text/plain": [
              "  place  parentalEducation  studentYear   cga    cgb   cgc   applications\n",
              "0   CCC            college     freshman  8419  53272   402         150532\n",
              "1   CCC            college    sophomore  7565  32227   680          77343\n",
              "2   CCC            college       junior  2930   4917   226          39914\n",
              "3   CCC            college       senior  2793   1198    37          12496\n",
              "4   CCC         highSchool     freshman  7915  84730   691         223590"
            ],
            "text/html": [
              "\n",
              "  <div id=\"df-bd6d1223-5479-402a-9aa3-624e1d74d37f\">\n",
              "    <div class=\"colab-df-container\">\n",
              "      <div>\n",
              "<style scoped>\n",
              "    .dataframe tbody tr th:only-of-type {\n",
              "        vertical-align: middle;\n",
              "    }\n",
              "\n",
              "    .dataframe tbody tr th {\n",
              "        vertical-align: top;\n",
              "    }\n",
              "\n",
              "    .dataframe thead th {\n",
              "        text-align: right;\n",
              "    }\n",
              "</style>\n",
              "<table border=\"1\" class=\"dataframe\">\n",
              "  <thead>\n",
              "    <tr style=\"text-align: right;\">\n",
              "      <th></th>\n",
              "      <th>place</th>\n",
              "      <th>parentalEducation</th>\n",
              "      <th>studentYear</th>\n",
              "      <th>cga</th>\n",
              "      <th>cgb</th>\n",
              "      <th>cgc</th>\n",
              "      <th>applications</th>\n",
              "    </tr>\n",
              "  </thead>\n",
              "  <tbody>\n",
              "    <tr>\n",
              "      <th>0</th>\n",
              "      <td>CCC</td>\n",
              "      <td>college</td>\n",
              "      <td>freshman</td>\n",
              "      <td>8419</td>\n",
              "      <td>53272</td>\n",
              "      <td>402</td>\n",
              "      <td>150532</td>\n",
              "    </tr>\n",
              "    <tr>\n",
              "      <th>1</th>\n",
              "      <td>CCC</td>\n",
              "      <td>college</td>\n",
              "      <td>sophomore</td>\n",
              "      <td>7565</td>\n",
              "      <td>32227</td>\n",
              "      <td>680</td>\n",
              "      <td>77343</td>\n",
              "    </tr>\n",
              "    <tr>\n",
              "      <th>2</th>\n",
              "      <td>CCC</td>\n",
              "      <td>college</td>\n",
              "      <td>junior</td>\n",
              "      <td>2930</td>\n",
              "      <td>4917</td>\n",
              "      <td>226</td>\n",
              "      <td>39914</td>\n",
              "    </tr>\n",
              "    <tr>\n",
              "      <th>3</th>\n",
              "      <td>CCC</td>\n",
              "      <td>college</td>\n",
              "      <td>senior</td>\n",
              "      <td>2793</td>\n",
              "      <td>1198</td>\n",
              "      <td>37</td>\n",
              "      <td>12496</td>\n",
              "    </tr>\n",
              "    <tr>\n",
              "      <th>4</th>\n",
              "      <td>CCC</td>\n",
              "      <td>highSchool</td>\n",
              "      <td>freshman</td>\n",
              "      <td>7915</td>\n",
              "      <td>84730</td>\n",
              "      <td>691</td>\n",
              "      <td>223590</td>\n",
              "    </tr>\n",
              "  </tbody>\n",
              "</table>\n",
              "</div>\n",
              "      <button class=\"colab-df-convert\" onclick=\"convertToInteractive('df-bd6d1223-5479-402a-9aa3-624e1d74d37f')\"\n",
              "              title=\"Convert this dataframe to an interactive table.\"\n",
              "              style=\"display:none;\">\n",
              "        \n",
              "  <svg xmlns=\"http://www.w3.org/2000/svg\" height=\"24px\"viewBox=\"0 0 24 24\"\n",
              "       width=\"24px\">\n",
              "    <path d=\"M0 0h24v24H0V0z\" fill=\"none\"/>\n",
              "    <path d=\"M18.56 5.44l.94 2.06.94-2.06 2.06-.94-2.06-.94-.94-2.06-.94 2.06-2.06.94zm-11 1L8.5 8.5l.94-2.06 2.06-.94-2.06-.94L8.5 2.5l-.94 2.06-2.06.94zm10 10l.94 2.06.94-2.06 2.06-.94-2.06-.94-.94-2.06-.94 2.06-2.06.94z\"/><path d=\"M17.41 7.96l-1.37-1.37c-.4-.4-.92-.59-1.43-.59-.52 0-1.04.2-1.43.59L10.3 9.45l-7.72 7.72c-.78.78-.78 2.05 0 2.83L4 21.41c.39.39.9.59 1.41.59.51 0 1.02-.2 1.41-.59l7.78-7.78 2.81-2.81c.8-.78.8-2.07 0-2.86zM5.41 20L4 18.59l7.72-7.72 1.47 1.35L5.41 20z\"/>\n",
              "  </svg>\n",
              "      </button>\n",
              "      \n",
              "  <style>\n",
              "    .colab-df-container {\n",
              "      display:flex;\n",
              "      flex-wrap:wrap;\n",
              "      gap: 12px;\n",
              "    }\n",
              "\n",
              "    .colab-df-convert {\n",
              "      background-color: #E8F0FE;\n",
              "      border: none;\n",
              "      border-radius: 50%;\n",
              "      cursor: pointer;\n",
              "      display: none;\n",
              "      fill: #1967D2;\n",
              "      height: 32px;\n",
              "      padding: 0 0 0 0;\n",
              "      width: 32px;\n",
              "    }\n",
              "\n",
              "    .colab-df-convert:hover {\n",
              "      background-color: #E2EBFA;\n",
              "      box-shadow: 0px 1px 2px rgba(60, 64, 67, 0.3), 0px 1px 3px 1px rgba(60, 64, 67, 0.15);\n",
              "      fill: #174EA6;\n",
              "    }\n",
              "\n",
              "    [theme=dark] .colab-df-convert {\n",
              "      background-color: #3B4455;\n",
              "      fill: #D2E3FC;\n",
              "    }\n",
              "\n",
              "    [theme=dark] .colab-df-convert:hover {\n",
              "      background-color: #434B5C;\n",
              "      box-shadow: 0px 1px 3px 1px rgba(0, 0, 0, 0.15);\n",
              "      filter: drop-shadow(0px 1px 2px rgba(0, 0, 0, 0.3));\n",
              "      fill: #FFFFFF;\n",
              "    }\n",
              "  </style>\n",
              "\n",
              "      <script>\n",
              "        const buttonEl =\n",
              "          document.querySelector('#df-bd6d1223-5479-402a-9aa3-624e1d74d37f button.colab-df-convert');\n",
              "        buttonEl.style.display =\n",
              "          google.colab.kernel.accessAllowed ? 'block' : 'none';\n",
              "\n",
              "        async function convertToInteractive(key) {\n",
              "          const element = document.querySelector('#df-bd6d1223-5479-402a-9aa3-624e1d74d37f');\n",
              "          const dataTable =\n",
              "            await google.colab.kernel.invokeFunction('convertToInteractive',\n",
              "                                                     [key], {});\n",
              "          if (!dataTable) return;\n",
              "\n",
              "          const docLinkHtml = 'Like what you see? Visit the ' +\n",
              "            '<a target=\"_blank\" href=https://colab.research.google.com/notebooks/data_table.ipynb>data table notebook</a>'\n",
              "            + ' to learn more about interactive tables.';\n",
              "          element.innerHTML = '';\n",
              "          dataTable['output_type'] = 'display_data';\n",
              "          await google.colab.output.renderOutput(dataTable, element);\n",
              "          const docLink = document.createElement('div');\n",
              "          docLink.innerHTML = docLinkHtml;\n",
              "          element.appendChild(docLink);\n",
              "        }\n",
              "      </script>\n",
              "    </div>\n",
              "  </div>\n",
              "  "
            ]
          },
          "metadata": {},
          "execution_count": 3
        }
      ],
      "source": [
        "df.head()"
      ]
    },
    {
      "cell_type": "markdown",
      "metadata": {
        "id": "312hd0VkvgV4"
      },
      "source": [
        "# Now we find the probability of a grant"
      ]
    },
    {
      "cell_type": "markdown",
      "source": [
        "Here we implemented an algorithm for calculating the probabilities of each grant being awarded based on various factors such as parental education level, college type applying to, and year of entrance into college. This algorithm can help identify which grants are most likely to be awarded to a particular student, based on their unique circumstances and characteristics."
      ],
      "metadata": {
        "id": "A9Gk2xZRqG9X"
      }
    },
    {
      "cell_type": "code",
      "execution_count": 4,
      "metadata": {
        "id": "W7PrW5F9vp2R"
      },
      "outputs": [],
      "source": [
        "possibleParental = [\"college\", \"highSchool\", \"unknown\"]\n",
        "possiblePlace = [\"CCC\", \"UC\", \"CSU\"]\n",
        "year = [\"freshman\", 'sophomore', 'junior', 'senior']"
      ]
    },
    {
      "cell_type": "code",
      "execution_count": 5,
      "metadata": {
        "id": "cZZRmb79z1Pl",
        "colab": {
          "base_uri": "https://localhost:8080/"
        },
        "outputId": "8bc1b3df-906b-4742-f02d-18a27638d604"
      },
      "outputs": [
        {
          "output_type": "stream",
          "name": "stdout",
          "text": [
            "Parental education (1-College or more, 2-High School or less, 3-unknown, 4-refuse to answer)\n",
            "1\n",
            "Place of education (1-CCC, 2-UC, 3-CSU, 4-refuse to answer)\n",
            "3\n",
            "Year of education (1-freshman, 2-sophomore, 3-junior, 4-senior, 5-refuse to answer)\n",
            "2\n",
            "['college'] ['CSU'] ['sophomore']\n"
          ]
        }
      ],
      "source": [
        "numeratorA  = 0\n",
        "numeratorB  = 0\n",
        "numeratorC  = 0\n",
        "denominator = 0\n",
        "\n",
        "print(\"Parental education (1-College or more, 2-High School or less, 3-unknown, 4-refuse to answer)\")\n",
        "p = input()\n",
        "print(\"Place of education (1-CCC, 2-UC, 3-CSU, 4-refuse to answer)\")\n",
        "e = input()\n",
        "print(\"Year of education (1-freshman, 2-sophomore, 3-junior, 4-senior, 5-refuse to answer)\")\n",
        "y = input()\n",
        "\n",
        "if(p == \"1\"):\n",
        "  possibleParental = [\"college\"]\n",
        "elif(p == \"2\"):\n",
        "  possibleParental = [\"highSchool\"]\n",
        "elif(p == \"3\"):\n",
        "  possibleParental = [\"unknown\"]\n",
        "else:\n",
        "  possibleParental = [\"college\", \"highSchool\", \"unknown\"]\n",
        "    \n",
        "if(e == \"1\"):\n",
        "  possiblePlace = [\"CCC\"]\n",
        "elif(e == \"2\"):\n",
        "  possiblePlace = [\"UC\"]\n",
        "elif( e == \"3\"):\n",
        "  possiblePlace = [\"CSU\"]\n",
        "else:\n",
        "  possiblePlace = [\"CCC\", \"UC\", \"CSU\"]\n",
        "\n",
        "\n",
        "if(y == \"1\"):\n",
        "  year = [\"freshman\"]\n",
        "elif(y == \"2\"):\n",
        "  year = [\"sophomore\"]\n",
        "elif(y == \"3\"):\n",
        "  year = [\"junior\"]\n",
        "elif(y == \"4\"):\n",
        "  year = [\"senior\"]  \n",
        "else:\n",
        "  year = [\"freshman\", 'sophomore', 'junior', 'senior']\n",
        "\n",
        "\n",
        "\n",
        "\n",
        "print(possibleParental, possiblePlace, year)"
      ]
    },
    {
      "cell_type": "markdown",
      "source": [
        "This algorithm is designed to calculate the probabilities associated with receiving various forms of financial aid."
      ],
      "metadata": {
        "id": "rvUerN3Qqnl0"
      }
    },
    {
      "cell_type": "code",
      "execution_count": 6,
      "metadata": {
        "id": "TlUj9M-03lMs",
        "colab": {
          "base_uri": "https://localhost:8080/"
        },
        "outputId": "6e89042d-2729-4d8c-cacb-011a34ca9b6a"
      },
      "outputs": [
        {
          "output_type": "stream",
          "name": "stdout",
          "text": [
            "P(grant A): 0.18002622562497356  P(grant B): 0.2724504039592234  P(grant C): 0.0\n"
          ]
        }
      ],
      "source": [
        "import math\n",
        "for yr in year:\n",
        "  for pl in possiblePlace:\n",
        "    for par in possibleParental:\n",
        "      rel = df[df[\"place\"] == pl]\n",
        "      rel = rel[rel[\" studentYear\"] == yr]\n",
        "      rel = rel[rel[\" parentalEducation\"] == par]\n",
        "      numeratorA += int(rel[\" cga\"])\n",
        "      numeratorB += int(rel[\" cgb\"])\n",
        "      numeratorC += int(rel[\" cgc\"])\n",
        "      denominator += int(rel[\" applications\"])\n",
        "      \n",
        "\n",
        "n1 = (numeratorA / denominator)\n",
        "n2 = (numeratorB / denominator)\n",
        "n3 = (numeratorC / denominator)\n",
        "print(\"P(grant A):\", float(n1) , \" P(grant B):\", float(n2) , \" P(grant C):\", float(n3))"
      ]
    },
    {
      "cell_type": "markdown",
      "source": [
        "# The time series prediction"
      ],
      "metadata": {
        "id": "fts5nRqUAtC3"
      }
    },
    {
      "cell_type": "code",
      "source": [
        "print(\"The time series file\")\n",
        "files.upload()\n",
        "\n",
        "\n"
      ],
      "metadata": {
        "colab": {
          "base_uri": "https://localhost:8080/",
          "height": 149
        },
        "id": "SLPlI14aM6F_",
        "outputId": "de9b9c5d-dcc8-4ef5-ac29-4da847989422"
      },
      "execution_count": 7,
      "outputs": [
        {
          "output_type": "stream",
          "name": "stdout",
          "text": [
            "The time series file\n"
          ]
        },
        {
          "output_type": "display_data",
          "data": {
            "text/plain": [
              "<IPython.core.display.HTML object>"
            ],
            "text/html": [
              "\n",
              "     <input type=\"file\" id=\"files-8966a988-6d16-4d91-a4c9-eb73cad9eceb\" name=\"files[]\" multiple disabled\n",
              "        style=\"border:none\" />\n",
              "     <output id=\"result-8966a988-6d16-4d91-a4c9-eb73cad9eceb\">\n",
              "      Upload widget is only available when the cell has been executed in the\n",
              "      current browser session. Please rerun this cell to enable.\n",
              "      </output>\n",
              "      <script>// Copyright 2017 Google LLC\n",
              "//\n",
              "// Licensed under the Apache License, Version 2.0 (the \"License\");\n",
              "// you may not use this file except in compliance with the License.\n",
              "// You may obtain a copy of the License at\n",
              "//\n",
              "//      http://www.apache.org/licenses/LICENSE-2.0\n",
              "//\n",
              "// Unless required by applicable law or agreed to in writing, software\n",
              "// distributed under the License is distributed on an \"AS IS\" BASIS,\n",
              "// WITHOUT WARRANTIES OR CONDITIONS OF ANY KIND, either express or implied.\n",
              "// See the License for the specific language governing permissions and\n",
              "// limitations under the License.\n",
              "\n",
              "/**\n",
              " * @fileoverview Helpers for google.colab Python module.\n",
              " */\n",
              "(function(scope) {\n",
              "function span(text, styleAttributes = {}) {\n",
              "  const element = document.createElement('span');\n",
              "  element.textContent = text;\n",
              "  for (const key of Object.keys(styleAttributes)) {\n",
              "    element.style[key] = styleAttributes[key];\n",
              "  }\n",
              "  return element;\n",
              "}\n",
              "\n",
              "// Max number of bytes which will be uploaded at a time.\n",
              "const MAX_PAYLOAD_SIZE = 100 * 1024;\n",
              "\n",
              "function _uploadFiles(inputId, outputId) {\n",
              "  const steps = uploadFilesStep(inputId, outputId);\n",
              "  const outputElement = document.getElementById(outputId);\n",
              "  // Cache steps on the outputElement to make it available for the next call\n",
              "  // to uploadFilesContinue from Python.\n",
              "  outputElement.steps = steps;\n",
              "\n",
              "  return _uploadFilesContinue(outputId);\n",
              "}\n",
              "\n",
              "// This is roughly an async generator (not supported in the browser yet),\n",
              "// where there are multiple asynchronous steps and the Python side is going\n",
              "// to poll for completion of each step.\n",
              "// This uses a Promise to block the python side on completion of each step,\n",
              "// then passes the result of the previous step as the input to the next step.\n",
              "function _uploadFilesContinue(outputId) {\n",
              "  const outputElement = document.getElementById(outputId);\n",
              "  const steps = outputElement.steps;\n",
              "\n",
              "  const next = steps.next(outputElement.lastPromiseValue);\n",
              "  return Promise.resolve(next.value.promise).then((value) => {\n",
              "    // Cache the last promise value to make it available to the next\n",
              "    // step of the generator.\n",
              "    outputElement.lastPromiseValue = value;\n",
              "    return next.value.response;\n",
              "  });\n",
              "}\n",
              "\n",
              "/**\n",
              " * Generator function which is called between each async step of the upload\n",
              " * process.\n",
              " * @param {string} inputId Element ID of the input file picker element.\n",
              " * @param {string} outputId Element ID of the output display.\n",
              " * @return {!Iterable<!Object>} Iterable of next steps.\n",
              " */\n",
              "function* uploadFilesStep(inputId, outputId) {\n",
              "  const inputElement = document.getElementById(inputId);\n",
              "  inputElement.disabled = false;\n",
              "\n",
              "  const outputElement = document.getElementById(outputId);\n",
              "  outputElement.innerHTML = '';\n",
              "\n",
              "  const pickedPromise = new Promise((resolve) => {\n",
              "    inputElement.addEventListener('change', (e) => {\n",
              "      resolve(e.target.files);\n",
              "    });\n",
              "  });\n",
              "\n",
              "  const cancel = document.createElement('button');\n",
              "  inputElement.parentElement.appendChild(cancel);\n",
              "  cancel.textContent = 'Cancel upload';\n",
              "  const cancelPromise = new Promise((resolve) => {\n",
              "    cancel.onclick = () => {\n",
              "      resolve(null);\n",
              "    };\n",
              "  });\n",
              "\n",
              "  // Wait for the user to pick the files.\n",
              "  const files = yield {\n",
              "    promise: Promise.race([pickedPromise, cancelPromise]),\n",
              "    response: {\n",
              "      action: 'starting',\n",
              "    }\n",
              "  };\n",
              "\n",
              "  cancel.remove();\n",
              "\n",
              "  // Disable the input element since further picks are not allowed.\n",
              "  inputElement.disabled = true;\n",
              "\n",
              "  if (!files) {\n",
              "    return {\n",
              "      response: {\n",
              "        action: 'complete',\n",
              "      }\n",
              "    };\n",
              "  }\n",
              "\n",
              "  for (const file of files) {\n",
              "    const li = document.createElement('li');\n",
              "    li.append(span(file.name, {fontWeight: 'bold'}));\n",
              "    li.append(span(\n",
              "        `(${file.type || 'n/a'}) - ${file.size} bytes, ` +\n",
              "        `last modified: ${\n",
              "            file.lastModifiedDate ? file.lastModifiedDate.toLocaleDateString() :\n",
              "                                    'n/a'} - `));\n",
              "    const percent = span('0% done');\n",
              "    li.appendChild(percent);\n",
              "\n",
              "    outputElement.appendChild(li);\n",
              "\n",
              "    const fileDataPromise = new Promise((resolve) => {\n",
              "      const reader = new FileReader();\n",
              "      reader.onload = (e) => {\n",
              "        resolve(e.target.result);\n",
              "      };\n",
              "      reader.readAsArrayBuffer(file);\n",
              "    });\n",
              "    // Wait for the data to be ready.\n",
              "    let fileData = yield {\n",
              "      promise: fileDataPromise,\n",
              "      response: {\n",
              "        action: 'continue',\n",
              "      }\n",
              "    };\n",
              "\n",
              "    // Use a chunked sending to avoid message size limits. See b/62115660.\n",
              "    let position = 0;\n",
              "    do {\n",
              "      const length = Math.min(fileData.byteLength - position, MAX_PAYLOAD_SIZE);\n",
              "      const chunk = new Uint8Array(fileData, position, length);\n",
              "      position += length;\n",
              "\n",
              "      const base64 = btoa(String.fromCharCode.apply(null, chunk));\n",
              "      yield {\n",
              "        response: {\n",
              "          action: 'append',\n",
              "          file: file.name,\n",
              "          data: base64,\n",
              "        },\n",
              "      };\n",
              "\n",
              "      let percentDone = fileData.byteLength === 0 ?\n",
              "          100 :\n",
              "          Math.round((position / fileData.byteLength) * 100);\n",
              "      percent.textContent = `${percentDone}% done`;\n",
              "\n",
              "    } while (position < fileData.byteLength);\n",
              "  }\n",
              "\n",
              "  // All done.\n",
              "  yield {\n",
              "    response: {\n",
              "      action: 'complete',\n",
              "    }\n",
              "  };\n",
              "}\n",
              "\n",
              "scope.google = scope.google || {};\n",
              "scope.google.colab = scope.google.colab || {};\n",
              "scope.google.colab._files = {\n",
              "  _uploadFiles,\n",
              "  _uploadFilesContinue,\n",
              "};\n",
              "})(self);\n",
              "</script> "
            ]
          },
          "metadata": {}
        },
        {
          "output_type": "stream",
          "name": "stdout",
          "text": [
            "Saving Total_Apps_Vert_copy.csv to Total_Apps_Vert_copy.csv\n"
          ]
        },
        {
          "output_type": "execute_result",
          "data": {
            "text/plain": [
              "{'Total_Apps_Vert_copy.csv': b'Month of Date App,Day of Date App,2021,2022,2023\\r\\nOctober,1,56661,19470,28969\\r\\nOctober,2,80084,40330,47464\\r\\nOctober,3,96039,56940,65801\\r\\nOctober,4,111940,73473,82255\\r\\nOctober,5,128514,89249,92581\\r\\nOctober,6,143783,103093,106010\\r\\nOctober,7,156896,113528,114950\\r\\nOctober,8,168360,122063,125281\\r\\nOctober,9,177567,130554,137133\\r\\nOctober,10,186095,140512,149638\\r\\nOctober,11,196482,151715,162213\\r\\nOctober,12,209075,163070,173849\\r\\nOctober,13,220801,175218,179971\\r\\nOctober,14,231944,185195,187708\\r\\nOctober,15,242468,192752,197233\\r\\nOctober,16,250538,199952,208390\\r\\nOctober,17,258131,209923,220654\\r\\nOctober,18,266831,221599,232486\\r\\nOctober,19,277588,231762,243370\\r\\nOctober,20,287496,243131,253160\\r\\nOctober,21,297684,250060,260356\\r\\nOctober,22,311428,256991,267668\\r\\nOctober,23,324822,264643,276742\\r\\nOctober,24,337298,274656,286836\\r\\nOctober,25,352802,286228,296447\\r\\nOctober,26,370635,297302,307201\\r\\nOctober,27,389770,307872,317198\\r\\nOctober,28,408075,317690,324519\\r\\nOctober,29,423345,325206,331529\\r\\nOctober,30,435828,332522,341315\\r\\nOctober,31,446272,341230,351172\\r\\nNovember,1,458909,353090,362396\\r\\nNovember,2,474222,362625,372418\\r\\nNovember,3,486584,372939,381347\\r\\nNovember,4,498349,382095,388003\\r\\nNovember,5,509637,389176,393998\\r\\nNovember,6,518311,395411,402125\\r\\nNovember,7,525430,402848,411085\\r\\nNovember,8,534020,412092,420106\\r\\nNovember,9,546303,421764,429156\\r\\nNovember,10,559067,430749,436541\\r\\nNovember,11,570147,438657,442096\\r\\nNovember,12,581040,445024,447180\\r\\nNovember,13,593196,450373,454303\\r\\nNovember,14,605605,457624,463948\\r\\nNovember,15,618118,467394,473939\\r\\nNovember,16,631917,476688,482670\\r\\nNovember,17,644987,485349,490354\\r\\nNovember,18,656397,493128,496286\\r\\nNovember,19,666239,498849,500797\\r\\nNovember,20,673889,502909,505668\\r\\nNovember,21,679978,507425,512346\\r\\nNovember,22,686353,514279,518913\\r\\nNovember,23,696268,521790,524367\\r\\nNovember,24,705355,527956,527785\\r\\nNovember,25,712635,531854,532588\\r\\nNovember,26,716753,537109,538313\\r\\nNovember,27,722981,543107,545820\\r\\nNovember,28,729755,550795,555156\\r\\nNovember,29,738750,560695,565428\\r\\nNovember,30,751750,571494,575741\\r\\nDecember,1,763094,580756,584274\\r\\nDecember,2,772454,588092,589951\\r\\nDecember,3,780855,593407,593955\\r\\nDecember,4,787598,596967,598494\\r\\nDecember,5,792346,601254,605567\\r\\nDecember,6,797833,607789,612710\\r\\nDecember,7,806164,614334,619781\\r\\nDecember,8,814547,620625,626693\\r\\nDecember,9,822711,625833,631878\\r\\nDecember,10,830158,630890,635658\\r\\nDecember,11,834951,633886,639965\\r\\nDecember,12,838629,638002,645918\\r\\nDecember,13,843744,645391,653617\\r\\nDecember,14,852964,652849,660715\\r\\nDecember,15,861935,659809,667672\\r\\nDecember,16,870003,665785,673272\\r\\nDecember,17,877481,669983,676966\\r\\nDecember,18,883885,673116,680492\\r\\nDecember,19,888244,675545,687091\\r\\nDecember,20,893098,681206,693661\\r\\nDecember,21,900374,686549,699636\\r\\nDecember,22,907309,691328,704964\\r\\nDecember,23,913019,695931,708702\\r\\nDecember,24,916006,698568,710925\\r\\nDecember,25,918442,701044,713229\\r\\nDecember,26,922887,705641,718394\\r\\nDecember,27,928771,713248,725327\\r\\nDecember,28,937969,721033,732399\\r\\nDecember,29,946715,728887,739202\\r\\nDecember,30,955298,736237,745194\\r\\nDecember,31,961364,741716,749718\\r\\nJanuary,1,967103,747068,754384\\r\\nJanuary,2,973896,753931,763060\\r\\nJanuary,3,982277,763778,773006\\r\\nJanuary,4,994034,769771,783812\\r\\nJanuary,5,1005026,775391,794414\\r\\nJanuary,6,1014700,779524,802730\\r\\nJanuary,7,1024509,786575,809240\\r\\nJanuary,8,1032432,793310,816312\\r\\nJanuary,9,1038162,800572,826998\\r\\nJanuary,10,1045261,810967,841245\\r\\nJanuary,11,1055681,820894,863871\\r\\nJanuary,12,1066127,830670,886217\\r\\nJanuary,13,1076373,839930,902554\\r\\nJanuary,14,1086521,847961,914001\\r\\nJanuary,15,1095292,855260,925967\\r\\nJanuary,16,1100741,860950,939889\\r\\nJanuary,17,1106249,868641,953114\\r\\nJanuary,18,1114029,879393,965517\\r\\nJanuary,19,1122939,897465,976775\\r\\nJanuary,20,1131397,915379,985852\\r\\nJanuary,21,1139662,929972,992456\\r\\nJanuary,22,1146454,940389,1000497\\r\\nJanuary,23,1151821,942325,1017450\\r\\nJanuary,24,1158044,955973,1038491\\r\\nJanuary,25,1169001,969012,1055244\\r\\nJanuary,26,1181029,980795,1067821\\r\\nJanuary,27,1193617,991522,1077673\\r\\nJanuary,28,1206384,1003293,1085391\\r\\nJanuary,29,1217273,1014822,1095400\\r\\nJanuary,30,1226164,1025076,1109074\\r\\nJanuary,31,1236515,1046384,1123792\\r\\nFebruary,1,1248506,1064913,1136374\\r\\nFebruary,2,1258839,1078654,1146154\\r\\nFebruary,3,1268366,1089871,1153526\\r\\nFebruary,4,1277081,1098634,1159656\\r\\nFebruary,5,1284182,1105634,1167305\\r\\nFebruary,6,1289691,1114179,1176773\\r\\nFebruary,7,1295139,1124996,1186316\\r\\nFebruary,8,1304537,1135749,1195428\\r\\nFebruary,9,1314114,1146128,1204096\\r\\nFebruary,10,1323290,1155814,1210741\\r\\nFebruary,11,1332571,1163537,1216359\\r\\nFebruary,12,1339971,1169526,1220796\\r\\nFebruary,13,1345104,1175203,1229911\\r\\nFebruary,14,1350409,1183099,1237683\\r\\nFebruary,15,1359767,1194414,1247511\\r\\nFebruary,16,1370134,1205251,1256587\\r\\nFebruary,17,1379842,1215414,1263657\\r\\nFebruary,18,1389560,1223645,1267947\\r\\nFebruary,19,1397836,1230141,1274541\\r\\nFebruary,20,1404860,1237925,1285292\\r\\nFebruary,21,1411387,1250002,1296633\\r\\nFebruary,22,1422250,1262595,1309237\\r\\nFebruary,23,1434417,1276423,1322453\\r\\nFebruary,24,1448134,1291154,1334034\\r\\nFebruary,25,1462686,1305013,1344802\\r\\nFebruary,26,1477968,1318031,1358642\\r\\nFebruary,27,1493720,1337794,1382871\\r\\nFebruary,28,1522080,1376743,1417982\\r\\nMarch,1,1584861,1440988,1470865\\r\\nMarch,2,1660096,1515682,1530654\\r\\nMarch,3,1682283,1538890,1549134\\r\\nMarch,4,1688447,1544560,1553028\\r\\nMarch,5,1692804,1548092,1557277\\r\\nMarch,6,1695601,1551750,1563104\\r\\nMarch,7,1698569,1557590,1568370\\r\\nMarch,8,1704042,1562989,1573498\\r\\nMarch,9,1709684,1568315,1578064\\r\\nMarch,10,1715149,1573483,1581821\\r\\nMarch,11,1721275,1577267,1584627\\r\\nMarch,12,1725960,1579803,1587693\\r\\nMarch,13,1728988,1582372,1592525\\r\\nMarch,14,1732260,1587384,1592525\\r\\nMarch,15,1738122,1592799,1592525\\r\\nMarch,16,1743328,1597816,1592525\\r\\nMarch,17,1748087,1602195,1592525\\r\\nMarch,18,1752713,1605756,1592525\\r\\nMarch,19,1756162,1608246,1592525\\r\\nMarch,20,1758180,1610972,1592525\\r\\nMarch,21,1760726,1615947,1592525\\r\\nMarch,22,1765415,1621059,1592525\\r\\nMarch,23,1770054,1626033,1592525\\r\\nMarch,24,1774529,1630827,1592525\\r\\nMarch,25,1778799,1634624,1592525\\r\\nMarch,26,1782116,1637372,1592525\\r\\nMarch,27,1784279,1639968,1592525\\r\\nMarch,28,1786492,1644690,1592525\\r\\nMarch,29,1790563,1651076,1592525\\r\\nMarch,30,1795222,1658371,1592525\\r\\nMarch,31,1799955,1667398,1592525\\r\\nApril,1,1803999,1675441,1592525\\r\\nApril,2,1806877,1678986,1592525\\r\\nApril,3,1808657,1681773,1592525\\r\\nApril,4,1810440,1686472,1592525\\r\\nApril,5,1814599,1691073,1592525\\r\\nApril,6,1818796,1695462,1592525\\r\\nApril,7,1823167,1699310,1592525\\r\\nApril,8,1827057,1702374,1592525\\r\\nApril,9,1830127,1704360,1592525\\r\\nApril,10,1830401,1706758,1592525\\r\\nApril,11,1832782,1711398,1592525\\r\\nApril,12,1837413,1715928,1592525\\r\\nApril,13,1841934,1720133,1592525\\r\\nApril,14,1846479,1724230,1592525\\r\\nApril,15,1850759,1727473,1592525\\r\\nApril,16,1853985,1729587,1592525\\r\\nApril,17,1856008,1731646,1592525\\r\\nApril,18,1858256,1736634,1592525\\r\\nApril,19,1862684,1743921,1592525\\r\\nApril,20,1866908,1751618,1592525\\r\\nApril,21,1871107,1758880,1592525\\r\\nApril,22,1875081,1763779,1592525\\r\\nApril,23,1878270,1766622,1592525\\r\\nApril,24,1880289,1769870,1592525\\r\\nApril,25,1882868,1775909,1592525\\r\\nApril,26,1887479,1781064,1592525\\r\\nApril,27,1892302,1786935,1592525\\r\\nApril,28,1897077,1792182,1592525\\r\\nApril,29,1901488,1796416,1592525\\r\\nApril,30,1905439,1799542,1592525\\r\\nMay,1,1907929,1802914,1592525\\r\\nMay,2,1910428,1809758,1592525\\r\\nMay,3,1915484,1817560,1592525\\r\\nMay,4,1920418,1824343,1592525\\r\\nMay,5,1924200,1829883,1592525\\r\\nMay,6,1927338,1834022,1592525\\r\\nMay,7,1931315,1836353,1592525\\r\\nMay,8,1933392,1838624,1592525\\r\\nMay,9,1935302,1844018,1592525\\r\\nMay,10,1940246,1849368,1592525\\r\\nMay,11,1945349,1854520,1592525\\r\\nMay,12,1950228,1859392,1592525\\r\\nMay,13,1954836,1863165,1592525\\r\\nMay,14,1958522,1865456,1592525\\r\\nMay,15,1960657,1868164,1592525\\r\\nMay,16,1963043,1873029,1592525\\r\\nMay,17,1967857,1877773,1592525\\r\\nMay,18,1972875,1883069,1592525\\r\\nMay,19,1977653,1888064,1592525\\r\\nMay,20,1982425,1891999,1592525\\r\\nMay,21,1985990,1894284,1592525\\r\\nMay,22,1988017,1896894,1592525\\r\\nMay,23,1990428,1902392,1592525\\r\\nMay,24,1995370,1907728,1592525\\r\\nMay,25,2000586,1912890,1592525\\r\\nMay,26,2005430,1917354,1592525\\r\\nMay,27,2010045,1920851,1592525\\r\\nMay,28,2013517,1922895,1592525\\r\\nMay,29,2015484,1924995,1592525\\r\\nMay,30,2017530,1928461,1592525\\r\\nMay,31,2020627,1933991,1592525\\r\\nJune,1,2025895,1938499,1592525\\r\\nJune,2,2031056,1943283,1592525\\r\\nJune,3,2035846,1947115,1592525\\r\\nJune,4,2039516,1949414,1592525\\r\\nJune,5,2041659,1951859,1592525\\r\\nJune,6,2043836,1956947,1592525\\r\\nJune,7,2048583,1962177,1592525\\r\\nJune,8,2053373,1967089,1592525\\r\\nJune,9,2058255,1971724,1592525\\r\\nJune,10,2062924,1975150,1592525\\r\\nJune,11,2066351,1977269,1592525\\r\\nJune,12,2068378,1979621,1592525\\r\\nJune,13,2070631,1984710,1592525\\r\\nJune,14,2075574,1990076,1592525\\r\\nJune,15,2080618,1994177,1592525\\r\\nJune,16,2085538,1999021,1592525\\r\\nJune,17,2089999,2002656,1592525\\r\\nJune,18,2093350,2004750,1592525\\r\\nJune,19,2095339,2006691,1592525\\r\\nJune,20,2097190,2011241,1592525\\r\\nJune,21,2102001,2015196,1592525\\r\\nJune,22,2107411,2020801,1592525\\r\\nJune,23,2112707,2025869,1592525\\r\\nJune,24,2117785,2029950,1592525\\r\\nJune,25,2121972,2032301,1592525\\r\\nJune,26,2124579,2034906,1592525\\r\\nJune,27,2127197,2040456,1592525\\r\\nJune,28,2133688,2047107,1592525\\r\\nJune,29,2141901,2055290,1592525\\r\\nJune,30,2151973,2066002,1592525\\r\\nJuly,1,2156920,2069378,1592525\\r\\nJuly,2,2160970,2071293,1592525\\r\\nJuly,3,2163312,2072781,1592525\\r\\nJuly,4,2165100,2074646,1592525\\r\\nJuly,5,2168740,2079085,1592525\\r\\nJuly,6,2174733,2084234,1592525\\r\\nJuly,7,2181112,2089356,1592525\\r\\nJuly,8,2187217,2093259,1592525\\r\\nJuly,9,2192067,2095364,1592525\\r\\nJuly,10,2195078,2097234,1592525\\r\\nJuly,11,2197960,2102606,1592525\\r\\nJuly,12,2204255,2108200,1592525\\r\\nJuly,13,2210963,2113854,1592525\\r\\nJuly,14,2217151,2119098,1592525\\r\\nJuly,15,2223392,2123300,1592525\\r\\nJuly,16,2228238,2125595,1592525\\r\\nJuly,17,2231164,2127938,1592525\\r\\nJuly,18,2233346,2133603,1592525\\r\\nJuly,19,2239507,2139685,1592525\\r\\nJuly,20,2246146,2145628,1592525\\r\\nJuly,21,2252863,2150974,1592525\\r\\nJuly,22,2259254,2155061,1592525\\r\\nJuly,23,2264089,2157036,1592525\\r\\nJuly,24,2267096,2157689,1592525\\r\\nJuly,25,2269725,2164056,1592525\\r\\nJuly,26,2276549,2170445,1592525\\r\\nJuly,27,2283729,2176593,1592525\\r\\nJuly,28,2290517,2182045,1592525\\r\\nJuly,29,2296818,2186303,1592525\\r\\nJuly,30,2301551,2188985,1592525\\r\\nJuly,31,2304591,2191697,1592525\\r\\nAugust,1,2307688,2198215,1592525\\r\\nAugust,2,2314177,2205001,1592525\\r\\nAugust,3,2320810,2211757,1592525\\r\\nAugust,4,2327616,2217943,1592525\\r\\nAugust,5,2334118,2222393,1592525\\r\\nAugust,6,2339168,2224985,1592525\\r\\nAugust,7,2342280,2227529,1592525\\r\\nAugust,8,2345160,2233844,1592525\\r\\nAugust,9,2351926,2240418,1592525\\r\\nAugust,10,2358872,2247107,1592525\\r\\nAugust,11,2365861,2253459,1592525\\r\\nAugust,12,2372356,2258476,1592525\\r\\nAugust,13,2377289,2261229,1592525\\r\\nAugust,14,2380197,2264080,1592525\\r\\nAugust,15,2383477,2270882,1592525\\r\\nAugust,16,2390121,2278084,1592525\\r\\nAugust,17,2396909,2284745,1592525\\r\\nAugust,18,2403153,2290818,1592525\\r\\nAugust,19,2408767,2295467,1592525\\r\\nAugust,20,2412719,2297945,1592525\\r\\nAugust,21,2415434,2300795,1592525\\r\\nAugust,22,2418065,2307178,1592525\\r\\nAugust,23,2424110,2313160,1592525\\r\\nAugust,24,2429752,2315629,1592525\\r\\nAugust,25,2435095,2320888,1592525\\r\\nAugust,26,2439763,2325366,1592525\\r\\nAugust,27,2443323,2327901,1592525\\r\\nAugust,28,2445313,2330338,1592525\\r\\nAugust,29,2447373,2335830,1592525\\r\\nAugust,30,2451822,2340921,1592525\\r\\nAugust,31,2456252,2345576,1592525\\r\\nSeptember,1,2460526,2349714,1592525\\r\\nSeptember,2,2464297,2352806,1592525\\r\\nSeptember,3,2466876,2354370,1592525\\r\\nSeptember,4,2468076,2355532,1592525\\r\\nSeptember,5,2469243,2357365,1592525\\r\\nSeptember,6,2470997,2360494,1592525\\r\\nSeptember,7,2474186,2363957,1592525\\r\\nSeptember,8,2477543,2366868,1592525\\r\\nSeptember,9,2480802,2369448,1592525\\r\\nSeptember,10,2483168,2370765,1592525\\r\\nSeptember,11,2484433,2372099,1592525\\r\\nSeptember,12,2484900,2375350,1592525\\r\\nSeptember,13,2487410,2378617,1592525\\r\\nSeptember,14,2489989,2381755,1592525\\r\\nSeptember,15,2492485,2384652,1592525\\r\\nSeptember,16,2495324,2386671,1592525\\r\\nSeptember,17,2497368,2387721,1592525\\r\\nSeptember,18,2498516,2388780,1592525\\r\\nSeptember,19,2499677,2391564,1592525\\r\\nSeptember,20,2502409,2394459,1592525\\r\\nSeptember,21,2505425,2397411,1592525\\r\\nSeptember,22,2508352,2400038,1592525\\r\\nSeptember,23,2511272,2401968,1592525\\r\\nSeptember,24,2513668,2402972,1592525\\r\\nSeptember,25,2515014,2403966,1592525\\r\\nSeptember,26,2516118,2406814,1592525\\r\\nSeptember,27,2519049,2409758,1592525\\r\\nSeptember,28,2521987,2412582,1592525\\r\\nSeptember,29,2524830,2415019,1592525\\r\\nSeptember,30,2527237,2416972,1592525'}"
            ]
          },
          "metadata": {},
          "execution_count": 7
        }
      ]
    },
    {
      "cell_type": "markdown",
      "source": [
        "The visualization below depicts current number of 2023 applications for financial aid. "
      ],
      "metadata": {
        "id": "pjTJaQEurFch"
      }
    },
    {
      "cell_type": "code",
      "source": [
        "data = pd.read_csv(\"Total_Apps_Vert_copy.csv\")\n",
        "data['index'] = data.index\n",
        "data[\"applied\"] = data[\"2023\"].diff()\n",
        "\n",
        "\n",
        "fig, ax = plt.subplots()\n",
        "ax.plot(data['2023'], label = \"2023\")\n",
        "plt.ylabel(\"Submissions (millions)\")\n",
        "plt.xlabel(\"Days into academic year\")\n",
        "ax.legend()"
      ],
      "metadata": {
        "colab": {
          "base_uri": "https://localhost:8080/",
          "height": 308
        },
        "id": "7CI0e7noM5ni",
        "outputId": "0995b55e-5ad2-4230-8484-b1272ea63c96"
      },
      "execution_count": 8,
      "outputs": [
        {
          "output_type": "execute_result",
          "data": {
            "text/plain": [
              "<matplotlib.legend.Legend at 0x7efd68ab8940>"
            ]
          },
          "metadata": {},
          "execution_count": 8
        },
        {
          "output_type": "display_data",
          "data": {
            "text/plain": [
              "<Figure size 432x288 with 1 Axes>"
            ],
            "image/png": "[encoded data removed]"
          },
          "metadata": {
            "needs_background": "light"
          }
        }
      ]
    },
    {
      "cell_type": "markdown",
      "source": [
        "The graph below visually displays the number of applications received each day, up until the present time. The point where the line on the graph levels off indicates precisely when we would initiate our Arima model to make predictions about future application rates"
      ],
      "metadata": {
        "id": "IyjZFxqYr5hK"
      }
    },
    {
      "cell_type": "code",
      "source": [
        "fig, ax = plt.subplots()\n",
        "\n",
        "ax.plot(data['applied'], label = \"number of applications on day\")\n",
        "plt.ylabel(\"Submissions per day\")\n",
        "plt.xlabel(\"Days into academic year\")\n",
        "\n",
        "ax.legend()"
      ],
      "metadata": {
        "colab": {
          "base_uri": "https://localhost:8080/",
          "height": 297
        },
        "id": "4HpG6bSNXT9B",
        "outputId": "692d0351-4181-4ec9-ad99-397e3b0f4f06"
      },
      "execution_count": 9,
      "outputs": [
        {
          "output_type": "execute_result",
          "data": {
            "text/plain": [
              "<matplotlib.legend.Legend at 0x7efd6612f550>"
            ]
          },
          "metadata": {},
          "execution_count": 9
        },
        {
          "output_type": "display_data",
          "data": {
            "text/plain": [
              "<Figure size 432x288 with 1 Axes>"
            ],
            "image/png": "[encoded data removed]"
          },
          "metadata": {
            "needs_background": "light"
          }
        }
      ]
    },
    {
      "cell_type": "markdown",
      "source": [
        "The visualization below demonstrates the technique allows for the comparison of testing and training data sets to evaluate the performance of our prediction algorithm. The gap in the trendline was implemented so that the testing was done on the future and not the next day."
      ],
      "metadata": {
        "id": "0xlu6HaesGIq"
      }
    },
    {
      "cell_type": "code",
      "source": [
        "train = data[0:100]\n",
        "test = data[110:130]\n",
        "train.head()\n",
        "\n",
        "fig, ax = plt.subplots()\n",
        "train['applied'].plot(ax=ax, label = \"training\")\n",
        "test['applied'].plot(ax=ax, label = \"testing\")\n",
        "plt.ylabel(\"Submissions per day\")\n",
        "plt.xlabel(\"Days into academic year\")\n",
        "\n",
        "ax.legend()\n"
      ],
      "metadata": {
        "colab": {
          "base_uri": "https://localhost:8080/",
          "height": 297
        },
        "id": "AyMc897IWv87",
        "outputId": "4a97ade8-3621-42b3-81bb-c109dcd9020e"
      },
      "execution_count": 10,
      "outputs": [
        {
          "output_type": "execute_result",
          "data": {
            "text/plain": [
              "<matplotlib.legend.Legend at 0x7efda0345400>"
            ]
          },
          "metadata": {},
          "execution_count": 10
        },
        {
          "output_type": "display_data",
          "data": {
            "text/plain": [
              "<Figure size 432x288 with 1 Axes>"
            ],
            "image/png": "[encoded data removed]"
          },
          "metadata": {
            "needs_background": "light"
          }
        }
      ]
    },
    {
      "cell_type": "markdown",
      "source": [
        "This program implements Arima model predicts how many applications will be filled out per day for the remainder of 2023. By utilizing historical data and applying predictive analytics techniques, we can accurately forecast the demand for financial aid programs."
      ],
      "metadata": {
        "id": "0OB89R1tscXw"
      }
    },
    {
      "cell_type": "code",
      "source": [
        "ARIMAmodel = ARIMA(train['applied'], order=(10,0,0))\n",
        "ARIMAmodel = ARIMAmodel.fit()\n"
      ],
      "metadata": {
        "id": "zxXmZcU9XTbt",
        "colab": {
          "base_uri": "https://localhost:8080/"
        },
        "outputId": "781eb867-4ef1-4d03-c488-7e79b6b19daa"
      },
      "execution_count": 11,
      "outputs": [
        {
          "output_type": "stream",
          "name": "stderr",
          "text": [
            "/usr/local/lib/python3.9/dist-packages/statsmodels/base/model.py:604: ConvergenceWarning: Maximum Likelihood optimization failed to converge. Check mle_retvals\n",
            "  warnings.warn(\"Maximum Likelihood optimization failed to \"\n"
          ]
        }
      ]
    },
    {
      "cell_type": "code",
      "source": [
        "steps = 165 - 100\n",
        "predictions = ARIMAmodel.get_forecast(steps=steps)\n",
        "predictions = predictions.conf_int(alpha = 0.15)\n",
        "predictions.head()"
      ],
      "metadata": {
        "colab": {
          "base_uri": "https://localhost:8080/",
          "height": 206
        },
        "id": "00DT7IfEa02O",
        "outputId": "cf94b8a5-36ac-49f2-a1e2-bc518394019a"
      },
      "execution_count": 12,
      "outputs": [
        {
          "output_type": "execute_result",
          "data": {
            "text/plain": [
              "     lower applied  upper applied\n",
              "100    6661.585555    9388.866691\n",
              "101    8866.875700   12670.567473\n",
              "102    9001.875216   13389.157211\n",
              "103    8224.354549   13020.864984\n",
              "104    6749.019372   11746.176940"
            ],
            "text/html": [
              "\n",
              "  <div id=\"df-4b35e4e3-b7d3-4a12-a15e-1555c65b43f2\">\n",
              "    <div class=\"colab-df-container\">\n",
              "      <div>\n",
              "<style scoped>\n",
              "    .dataframe tbody tr th:only-of-type {\n",
              "        vertical-align: middle;\n",
              "    }\n",
              "\n",
              "    .dataframe tbody tr th {\n",
              "        vertical-align: top;\n",
              "    }\n",
              "\n",
              "    .dataframe thead th {\n",
              "        text-align: right;\n",
              "    }\n",
              "</style>\n",
              "<table border=\"1\" class=\"dataframe\">\n",
              "  <thead>\n",
              "    <tr style=\"text-align: right;\">\n",
              "      <th></th>\n",
              "      <th>lower applied</th>\n",
              "      <th>upper applied</th>\n",
              "    </tr>\n",
              "  </thead>\n",
              "  <tbody>\n",
              "    <tr>\n",
              "      <th>100</th>\n",
              "      <td>6661.585555</td>\n",
              "      <td>9388.866691</td>\n",
              "    </tr>\n",
              "    <tr>\n",
              "      <th>101</th>\n",
              "      <td>8866.875700</td>\n",
              "      <td>12670.567473</td>\n",
              "    </tr>\n",
              "    <tr>\n",
              "      <th>102</th>\n",
              "      <td>9001.875216</td>\n",
              "      <td>13389.157211</td>\n",
              "    </tr>\n",
              "    <tr>\n",
              "      <th>103</th>\n",
              "      <td>8224.354549</td>\n",
              "      <td>13020.864984</td>\n",
              "    </tr>\n",
              "    <tr>\n",
              "      <th>104</th>\n",
              "      <td>6749.019372</td>\n",
              "      <td>11746.176940</td>\n",
              "    </tr>\n",
              "  </tbody>\n",
              "</table>\n",
              "</div>\n",
              "      <button class=\"colab-df-convert\" onclick=\"convertToInteractive('df-4b35e4e3-b7d3-4a12-a15e-1555c65b43f2')\"\n",
              "              title=\"Convert this dataframe to an interactive table.\"\n",
              "              style=\"display:none;\">\n",
              "        \n",
              "  <svg xmlns=\"http://www.w3.org/2000/svg\" height=\"24px\"viewBox=\"0 0 24 24\"\n",
              "       width=\"24px\">\n",
              "    <path d=\"M0 0h24v24H0V0z\" fill=\"none\"/>\n",
              "    <path d=\"M18.56 5.44l.94 2.06.94-2.06 2.06-.94-2.06-.94-.94-2.06-.94 2.06-2.06.94zm-11 1L8.5 8.5l.94-2.06 2.06-.94-2.06-.94L8.5 2.5l-.94 2.06-2.06.94zm10 10l.94 2.06.94-2.06 2.06-.94-2.06-.94-.94-2.06-.94 2.06-2.06.94z\"/><path d=\"M17.41 7.96l-1.37-1.37c-.4-.4-.92-.59-1.43-.59-.52 0-1.04.2-1.43.59L10.3 9.45l-7.72 7.72c-.78.78-.78 2.05 0 2.83L4 21.41c.39.39.9.59 1.41.59.51 0 1.02-.2 1.41-.59l7.78-7.78 2.81-2.81c.8-.78.8-2.07 0-2.86zM5.41 20L4 18.59l7.72-7.72 1.47 1.35L5.41 20z\"/>\n",
              "  </svg>\n",
              "      </button>\n",
              "      \n",
              "  <style>\n",
              "    .colab-df-container {\n",
              "      display:flex;\n",
              "      flex-wrap:wrap;\n",
              "      gap: 12px;\n",
              "    }\n",
              "\n",
              "    .colab-df-convert {\n",
              "      background-color: #E8F0FE;\n",
              "      border: none;\n",
              "      border-radius: 50%;\n",
              "      cursor: pointer;\n",
              "      display: none;\n",
              "      fill: #1967D2;\n",
              "      height: 32px;\n",
              "      padding: 0 0 0 0;\n",
              "      width: 32px;\n",
              "    }\n",
              "\n",
              "    .colab-df-convert:hover {\n",
              "      background-color: #E2EBFA;\n",
              "      box-shadow: 0px 1px 2px rgba(60, 64, 67, 0.3), 0px 1px 3px 1px rgba(60, 64, 67, 0.15);\n",
              "      fill: #174EA6;\n",
              "    }\n",
              "\n",
              "    [theme=dark] .colab-df-convert {\n",
              "      background-color: #3B4455;\n",
              "      fill: #D2E3FC;\n",
              "    }\n",
              "\n",
              "    [theme=dark] .colab-df-convert:hover {\n",
              "      background-color: #434B5C;\n",
              "      box-shadow: 0px 1px 3px 1px rgba(0, 0, 0, 0.15);\n",
              "      filter: drop-shadow(0px 1px 2px rgba(0, 0, 0, 0.3));\n",
              "      fill: #FFFFFF;\n",
              "    }\n",
              "  </style>\n",
              "\n",
              "      <script>\n",
              "        const buttonEl =\n",
              "          document.querySelector('#df-4b35e4e3-b7d3-4a12-a15e-1555c65b43f2 button.colab-df-convert');\n",
              "        buttonEl.style.display =\n",
              "          google.colab.kernel.accessAllowed ? 'block' : 'none';\n",
              "\n",
              "        async function convertToInteractive(key) {\n",
              "          const element = document.querySelector('#df-4b35e4e3-b7d3-4a12-a15e-1555c65b43f2');\n",
              "          const dataTable =\n",
              "            await google.colab.kernel.invokeFunction('convertToInteractive',\n",
              "                                                     [key], {});\n",
              "          if (!dataTable) return;\n",
              "\n",
              "          const docLinkHtml = 'Like what you see? Visit the ' +\n",
              "            '<a target=\"_blank\" href=https://colab.research.google.com/notebooks/data_table.ipynb>data table notebook</a>'\n",
              "            + ' to learn more about interactive tables.';\n",
              "          element.innerHTML = '';\n",
              "          dataTable['output_type'] = 'display_data';\n",
              "          await google.colab.output.renderOutput(dataTable, element);\n",
              "          const docLink = document.createElement('div');\n",
              "          docLink.innerHTML = docLinkHtml;\n",
              "          element.appendChild(docLink);\n",
              "        }\n",
              "      </script>\n",
              "    </div>\n",
              "  </div>\n",
              "  "
            ]
          },
          "metadata": {},
          "execution_count": 12
        }
      ]
    },
    {
      "cell_type": "markdown",
      "source": [
        "Here, we present the formal expansion of the prediction sum for students who are expected to apply through the end of this year. The training set is displayed until April, and subsequent predictions cover from April onwards. We emphasize that the best-fit line represents optimal accuracy, while both high and low ends denote possible boundaries in terms of student application rates."
      ],
      "metadata": {
        "id": "lkdQYy9Zsj3-"
      }
    },
    {
      "cell_type": "code",
      "source": [
        "fig, ax = plt.subplots()\n",
        "train['applied'].plot(ax=ax, label = \"training\")\n",
        "test['applied'].plot(ax=ax, label = \"testing\")\n",
        "#predictions[predictions[\"lower applied\"] < 0] = 0\n",
        "predictions[\"lower applied\"].plot(ax=ax, label = 'predictions low-end')\n",
        "\n",
        "predictions[\"mle\"] = (predictions[\"upper applied\"] + predictions[\"lower applied\"]) / 2\n",
        "predictions[\"mle\"].plot(ax = ax, label = \"best fit\")\n",
        "predictions[\"upper applied\"].plot(ax=ax, label = 'predictions high-end')\n",
        "plt.ylabel(\"Submissions per day\")\n",
        "plt.xlabel(\"Days into academic year\")\n",
        "\n",
        "ax.legend()"
      ],
      "metadata": {
        "colab": {
          "base_uri": "https://localhost:8080/",
          "height": 297
        },
        "id": "64L6mP8cbJo0",
        "outputId": "a0906505-f7df-41ba-966a-d1559aed84cf"
      },
      "execution_count": 13,
      "outputs": [
        {
          "output_type": "execute_result",
          "data": {
            "text/plain": [
              "<matplotlib.legend.Legend at 0x7efd63f03580>"
            ]
          },
          "metadata": {},
          "execution_count": 13
        },
        {
          "output_type": "display_data",
          "data": {
            "text/plain": [
              "<Figure size 432x288 with 1 Axes>"
            ],
            "image/png": "[encoded data removed]"
          },
          "metadata": {
            "needs_background": "light"
          }
        }
      ]
    },
    {
      "cell_type": "markdown",
      "source": [
        "We see that the high-end is somewhat accurat, so from now we use that for our predictions for the whole year"
      ],
      "metadata": {
        "id": "8sEoAPNyxMbQ"
      }
    },
    {
      "cell_type": "code",
      "source": [
        "fig, ax = plt.subplots()\n",
        "\n",
        "\n",
        "predictions = ARIMAmodel.get_forecast(365 - 100)\n",
        "predictions = predictions.conf_int(alpha = 0.6)\n",
        "\n",
        "\n",
        "train['2023'].plot(ax=ax, label = \"training\")\n",
        "test['2023'].plot(ax=ax, label = \"testing\")\n",
        "predictions = predictions.cumsum()\n",
        "predictions[\"lower applied\"] += train[\"2023\"][99]\n",
        "predictions[\"upper applied\"] += train[\"2023\"][99]\n",
        "\n",
        "predictions[\"mle\"] = (predictions[\"upper applied\"] + predictions[\"lower applied\"]) / 2\n",
        "\n",
        "\n",
        "\n",
        "plt.ylabel(\"Submissions (millions)\")\n",
        "plt.xlabel(\"Days into academic year\")\n",
        "\n",
        "predictions[\"mle\"].plot(ax=ax, label = \"best approximation\")\n",
        "predictions[\"lower applied\"].plot(ax=ax, label = 'predictions low-end')\n",
        "predictions[\"upper applied\"].plot(ax=ax, label = 'predictions high-end')\n",
        "ax.legend()"
      ],
      "metadata": {
        "colab": {
          "base_uri": "https://localhost:8080/",
          "height": 308
        },
        "id": "15PffsNIxSiH",
        "outputId": "e30e1d7f-d881-4b9b-caf5-96441ce6267a"
      },
      "execution_count": 14,
      "outputs": [
        {
          "output_type": "execute_result",
          "data": {
            "text/plain": [
              "<matplotlib.legend.Legend at 0x7efd65fe3e50>"
            ]
          },
          "metadata": {},
          "execution_count": 14
        },
        {
          "output_type": "display_data",
          "data": {
            "text/plain": [
              "<Figure size 432x288 with 1 Axes>"
            ],
            "image/png": "[encoded data removed]"
          },
          "metadata": {
            "needs_background": "light"
          }
        }
      ]
    },
    {
      "cell_type": "markdown",
      "source": [
        "In this instance, we are conducting an estimation on the overall quantity of submissions for financial aid that will be finalized by September 30th 2023, which is just about 2.94 million submissions."
      ],
      "metadata": {
        "id": "794leob0stQs"
      }
    },
    {
      "cell_type": "code",
      "source": [
        "predictions.tail()\n",
        "#predictions.cumsum()"
      ],
      "metadata": {
        "colab": {
          "base_uri": "https://localhost:8080/",
          "height": 206
        },
        "id": "OyWHsO0zV95o",
        "outputId": "a5105afc-8e2a-4c2e-a5af-5b2c7a068b40"
      },
      "execution_count": 15,
      "outputs": [
        {
          "output_type": "execute_result",
          "data": {
            "text/plain": [
              "     lower applied  upper applied           mle\n",
              "360   2.454842e+06   3.425798e+06  2.940320e+06\n",
              "361   2.460869e+06   3.435712e+06  2.948291e+06\n",
              "362   2.466871e+06   3.445603e+06  2.956237e+06\n",
              "363   2.472905e+06   3.455524e+06  2.964214e+06\n",
              "364   2.478902e+06   3.465409e+06  2.972155e+06"
            ],
            "text/html": [
              "\n",
              "  <div id=\"df-6b072157-e1ab-4440-b3a7-70b7dbf07650\">\n",
              "    <div class=\"colab-df-container\">\n",
              "      <div>\n",
              "<style scoped>\n",
              "    .dataframe tbody tr th:only-of-type {\n",
              "        vertical-align: middle;\n",
              "    }\n",
              "\n",
              "    .dataframe tbody tr th {\n",
              "        vertical-align: top;\n",
              "    }\n",
              "\n",
              "    .dataframe thead th {\n",
              "        text-align: right;\n",
              "    }\n",
              "</style>\n",
              "<table border=\"1\" class=\"dataframe\">\n",
              "  <thead>\n",
              "    <tr style=\"text-align: right;\">\n",
              "      <th></th>\n",
              "      <th>lower applied</th>\n",
              "      <th>upper applied</th>\n",
              "      <th>mle</th>\n",
              "    </tr>\n",
              "  </thead>\n",
              "  <tbody>\n",
              "    <tr>\n",
              "      <th>360</th>\n",
              "      <td>2.454842e+06</td>\n",
              "      <td>3.425798e+06</td>\n",
              "      <td>2.940320e+06</td>\n",
              "    </tr>\n",
              "    <tr>\n",
              "      <th>361</th>\n",
              "      <td>2.460869e+06</td>\n",
              "      <td>3.435712e+06</td>\n",
              "      <td>2.948291e+06</td>\n",
              "    </tr>\n",
              "    <tr>\n",
              "      <th>362</th>\n",
              "      <td>2.466871e+06</td>\n",
              "      <td>3.445603e+06</td>\n",
              "      <td>2.956237e+06</td>\n",
              "    </tr>\n",
              "    <tr>\n",
              "      <th>363</th>\n",
              "      <td>2.472905e+06</td>\n",
              "      <td>3.455524e+06</td>\n",
              "      <td>2.964214e+06</td>\n",
              "    </tr>\n",
              "    <tr>\n",
              "      <th>364</th>\n",
              "      <td>2.478902e+06</td>\n",
              "      <td>3.465409e+06</td>\n",
              "      <td>2.972155e+06</td>\n",
              "    </tr>\n",
              "  </tbody>\n",
              "</table>\n",
              "</div>\n",
              "      <button class=\"colab-df-convert\" onclick=\"convertToInteractive('df-6b072157-e1ab-4440-b3a7-70b7dbf07650')\"\n",
              "              title=\"Convert this dataframe to an interactive table.\"\n",
              "              style=\"display:none;\">\n",
              "        \n",
              "  <svg xmlns=\"http://www.w3.org/2000/svg\" height=\"24px\"viewBox=\"0 0 24 24\"\n",
              "       width=\"24px\">\n",
              "    <path d=\"M0 0h24v24H0V0z\" fill=\"none\"/>\n",
              "    <path d=\"M18.56 5.44l.94 2.06.94-2.06 2.06-.94-2.06-.94-.94-2.06-.94 2.06-2.06.94zm-11 1L8.5 8.5l.94-2.06 2.06-.94-2.06-.94L8.5 2.5l-.94 2.06-2.06.94zm10 10l.94 2.06.94-2.06 2.06-.94-2.06-.94-.94-2.06-.94 2.06-2.06.94z\"/><path d=\"M17.41 7.96l-1.37-1.37c-.4-.4-.92-.59-1.43-.59-.52 0-1.04.2-1.43.59L10.3 9.45l-7.72 7.72c-.78.78-.78 2.05 0 2.83L4 21.41c.39.39.9.59 1.41.59.51 0 1.02-.2 1.41-.59l7.78-7.78 2.81-2.81c.8-.78.8-2.07 0-2.86zM5.41 20L4 18.59l7.72-7.72 1.47 1.35L5.41 20z\"/>\n",
              "  </svg>\n",
              "      </button>\n",
              "      \n",
              "  <style>\n",
              "    .colab-df-container {\n",
              "      display:flex;\n",
              "      flex-wrap:wrap;\n",
              "      gap: 12px;\n",
              "    }\n",
              "\n",
              "    .colab-df-convert {\n",
              "      background-color: #E8F0FE;\n",
              "      border: none;\n",
              "      border-radius: 50%;\n",
              "      cursor: pointer;\n",
              "      display: none;\n",
              "      fill: #1967D2;\n",
              "      height: 32px;\n",
              "      padding: 0 0 0 0;\n",
              "      width: 32px;\n",
              "    }\n",
              "\n",
              "    .colab-df-convert:hover {\n",
              "      background-color: #E2EBFA;\n",
              "      box-shadow: 0px 1px 2px rgba(60, 64, 67, 0.3), 0px 1px 3px 1px rgba(60, 64, 67, 0.15);\n",
              "      fill: #174EA6;\n",
              "    }\n",
              "\n",
              "    [theme=dark] .colab-df-convert {\n",
              "      background-color: #3B4455;\n",
              "      fill: #D2E3FC;\n",
              "    }\n",
              "\n",
              "    [theme=dark] .colab-df-convert:hover {\n",
              "      background-color: #434B5C;\n",
              "      box-shadow: 0px 1px 3px 1px rgba(0, 0, 0, 0.15);\n",
              "      filter: drop-shadow(0px 1px 2px rgba(0, 0, 0, 0.3));\n",
              "      fill: #FFFFFF;\n",
              "    }\n",
              "  </style>\n",
              "\n",
              "      <script>\n",
              "        const buttonEl =\n",
              "          document.querySelector('#df-6b072157-e1ab-4440-b3a7-70b7dbf07650 button.colab-df-convert');\n",
              "        buttonEl.style.display =\n",
              "          google.colab.kernel.accessAllowed ? 'block' : 'none';\n",
              "\n",
              "        async function convertToInteractive(key) {\n",
              "          const element = document.querySelector('#df-6b072157-e1ab-4440-b3a7-70b7dbf07650');\n",
              "          const dataTable =\n",
              "            await google.colab.kernel.invokeFunction('convertToInteractive',\n",
              "                                                     [key], {});\n",
              "          if (!dataTable) return;\n",
              "\n",
              "          const docLinkHtml = 'Like what you see? Visit the ' +\n",
              "            '<a target=\"_blank\" href=https://colab.research.google.com/notebooks/data_table.ipynb>data table notebook</a>'\n",
              "            + ' to learn more about interactive tables.';\n",
              "          element.innerHTML = '';\n",
              "          dataTable['output_type'] = 'display_data';\n",
              "          await google.colab.output.renderOutput(dataTable, element);\n",
              "          const docLink = document.createElement('div');\n",
              "          docLink.innerHTML = docLinkHtml;\n",
              "          element.appendChild(docLink);\n",
              "        }\n",
              "      </script>\n",
              "    </div>\n",
              "  </div>\n",
              "  "
            ]
          },
          "metadata": {},
          "execution_count": 15
        }
      ]
    },
    {
      "cell_type": "markdown",
      "source": [
        "In this section, we endeavored to utilize K-Nearest Neighbors (KNN) algorithm in a univariate setting. Specifically, we partitioned the age variable into bins and computed its corresponding values for applicants versus those who were awarded admission. Consequently, we developed a prediction model that estimates the likelihood of obtaining acceptance based on one's age at application or enrollment status as a freshman, sophomore, junior or senior year student."
      ],
      "metadata": {
        "id": "vGYGiB6mtFmO"
      }
    },
    {
      "cell_type": "code",
      "execution_count": 16,
      "metadata": {
        "colab": {
          "base_uri": "https://localhost:8080/"
        },
        "id": "6AGbPPXZuuSb",
        "outputId": "01569561-7cc7-4d82-f272-d186d610d20d"
      },
      "outputs": [
        {
          "output_type": "stream",
          "name": "stdout",
          "text": [
            "enter your age, with decimal point\n",
            "23.7\n",
            "Your 1-nearest point, age-wise, has p(offered a grant) =  0.11671959407112781\n"
          ]
        }
      ],
      "source": [
        "points = [[17, 122365 / 375653], [19, 66257/533635], [22, 77589 / 664747], [27, 44042 / 326286], [30, 53021 / 516651 ]] #dream act excluded\n",
        "\n",
        "print(\"enter your age, with decimal point\")\n",
        "age = input()\n",
        "age = float(age)\n",
        "\n",
        "\n",
        "nearestPt = points[1]\n",
        "\n",
        "for point in points:\n",
        "  if abs(point[0] - age) < abs(nearestPt[0] - age):\n",
        "    nearestPt = point\n",
        "\n",
        "print(\"Your 1-nearest point, age-wise, has p(offered a grant) = \", float(nearestPt[1]))\n",
        "\n"
      ]
    },
    {
      "cell_type": "code",
      "execution_count": 17,
      "metadata": {
        "colab": {
          "base_uri": "https://localhost:8080/"
        },
        "id": "QPpIotxa67YA",
        "outputId": "faaa9a4b-929c-40d0-d82d-56f1f08b2b1c"
      },
      "outputs": [
        {
          "output_type": "stream",
          "name": "stdout",
          "text": [
            "enter your year, with decimal point\n",
            "3.5\n",
            "Your 1-nearest point, year-wise, has p(offered a grant) =  0.48346492596414603\n"
          ]
        }
      ],
      "source": [
        "points = [[1, 245063 / 689576], [2, 166303/261075], [3, 120873/250014], [4,65213/ 158463]]\n",
        "\n",
        "print(\"enter your year, with decimal point\")\n",
        "year = input()\n",
        "year = float(year)\n",
        "\n",
        "\n",
        "nearestPt = points[1]\n",
        "\n",
        "for point in points:\n",
        "  if abs(point[0] - year) < abs(nearestPt[0] - year):\n",
        "    nearestPt = point\n",
        "\n",
        "print(\"Your 1-nearest point, year-wise, has p(offered a grant) = \", float(nearestPt[1]))\n"
      ]
    },
    {
      "cell_type": "markdown",
      "source": [
        "#Conclusion\n",
        "\n",
        "---\n",
        "\n",
        "\n",
        "\n",
        "Based on our time series forecasting using Arima, we have determined that the total number of FAFSA+CADAA applications for this year is expected to fall within a range of (2478902,3465409). This forecast indicates an increase in application numbers compared to last year's count of 2416972 and the preceding year's count of 2527237. It can be concluded that there will likely be more applications submitted than in previous years. If you are looking to receive a Cal Grant A, it is recommended to enroll as a freshman at one of the University of California campuses. This recommendation is since UC campuses have historically been awarded more Cal Grant A's than California State University or private institutions. This information can help applicants make more informed decisions about where to apply and potentially increase their chances of receiving financial aid. We hope this analysis provides useful insights and guidance for those seeking financial aid in California."
      ],
      "metadata": {
        "id": "tL6seDsAtkUW"
      }
    }
  ],
  "metadata": {
    "colab": {
      "provenance": []
    },
    "kernelspec": {
      "display_name": "Python 3",
      "name": "python3"
    },
    "language_info": {
      "name": "python"
    }
  },
  "nbformat": 4,
  "nbformat_minor": 0
}